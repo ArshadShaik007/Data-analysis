{
 "cells": [
  {
   "cell_type": "markdown",
   "metadata": {},
   "source": [
    "# some heading\n",
    "## some heading\n",
    "### some heading\n",
    "#### some heading\n",
    "##### some heading\n",
    "###### some heading\n",
    "#######\n"
   ]
  },
  {
   "cell_type": "markdown",
   "metadata": {},
   "source": [
    "- welcome\n",
    "    - int\n",
    "        - ~**hola**~\n",
    "        <img src=\"data:image/jpeg;base64,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\"\n",
    "        \n",
    "        "
   ]
  },
  {
   "cell_type": "markdown",
   "metadata": {},
   "source": [
    "<img src=\"data:image/jpeg;base64,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\""
   ]
  },
  {
   "cell_type": "markdown",
   "metadata": {},
   "source": [
    "<img src=\"https://i.natgeofe.com/n/26523bf9-bbae-4e2c-a2bc-eee44f5ed376/green-anaconda.jpg\">"
   ]
  },
  {
   "cell_type": "markdown",
   "metadata": {},
   "source": [
    "[](http://apssdc.in)"
   ]
  },
  {
   "cell_type": "markdown",
   "metadata": {},
   "source": [
    "- open\n",
    "- read\n",
    "- write\n",
    "- readlines()\n"
   ]
  },
  {
   "cell_type": "code",
   "execution_count": 7,
   "metadata": {},
   "outputs": [
    {
     "name": "stdout",
     "output_type": "stream",
     "text": [
      "loki 10 12 13 14\n",
      "puki 30 02 01 01 \n"
     ]
    }
   ],
   "source": [
    "f=open('marks.txt','r')\n",
    "d=f.read()\n",
    "print(d)\n",
    "f.close()\n",
    "    "
   ]
  },
  {
   "cell_type": "code",
   "execution_count": 22,
   "metadata": {},
   "outputs": [
    {
     "ename": "TypeError",
     "evalue": "'int' object is not callable",
     "output_type": "error",
     "traceback": [
      "\u001b[1;31m---------------------------------------------------------------------------\u001b[0m",
      "\u001b[1;31mTypeError\u001b[0m                                 Traceback (most recent call last)",
      "\u001b[1;32m<ipython-input-22-5474f83531d1>\u001b[0m in \u001b[0;36m<module>\u001b[1;34m\u001b[0m\n\u001b[0;32m      8\u001b[0m     \u001b[1;32mif\u001b[0m\u001b[1;33m(\u001b[0m\u001b[0mi\u001b[0m\u001b[1;33m==\u001b[0m\u001b[1;34m\"loki\"\u001b[0m\u001b[1;33m)\u001b[0m\u001b[1;33m:\u001b[0m\u001b[1;33m\u001b[0m\u001b[1;33m\u001b[0m\u001b[0m\n\u001b[0;32m      9\u001b[0m         \u001b[1;32mcontinue\u001b[0m\u001b[1;33m\u001b[0m\u001b[1;33m\u001b[0m\u001b[0m\n\u001b[1;32m---> 10\u001b[1;33m     \u001b[0msum\u001b[0m\u001b[1;33m(\u001b[0m\u001b[0mint\u001b[0m\u001b[1;33m(\u001b[0m\u001b[0mi\u001b[0m\u001b[1;33m)\u001b[0m\u001b[1;33m)\u001b[0m\u001b[1;33m\u001b[0m\u001b[1;33m\u001b[0m\u001b[0m\n\u001b[0m",
      "\u001b[1;31mTypeError\u001b[0m: 'int' object is not callable"
     ]
    }
   ],
   "source": [
    "f=open('marks.txt','r')\n",
    "d=f.read()\n",
    "f=d.split()\n",
    "s=[]\n",
    "for i in f:\n",
    "    words=i."
   ]
  },
  {
   "cell_type": "code",
   "execution_count": 34,
   "metadata": {},
   "outputs": [
    {
     "name": "stdout",
     "output_type": "stream",
     "text": [
      "['loki 10 12 13 14\\n', 'puki 30 02 01 01']\n",
      "['loki', '10', '12', '13', '14']\n"
     ]
    },
    {
     "ename": "TypeError",
     "evalue": "'int' object is not callable",
     "output_type": "error",
     "traceback": [
      "\u001b[1;31m---------------------------------------------------------------------------\u001b[0m",
      "\u001b[1;31mTypeError\u001b[0m                                 Traceback (most recent call last)",
      "\u001b[1;32m<ipython-input-34-e11933d02b44>\u001b[0m in \u001b[0;36m<module>\u001b[1;34m\u001b[0m\n\u001b[0;32m      8\u001b[0m     \u001b[0mtotal\u001b[0m\u001b[1;33m=\u001b[0m\u001b[1;33m(\u001b[0m\u001b[0mlist\u001b[0m\u001b[1;33m(\u001b[0m\u001b[0mmap\u001b[0m\u001b[1;33m(\u001b[0m\u001b[0mint\u001b[0m\u001b[1;33m,\u001b[0m\u001b[0mwords\u001b[0m\u001b[1;33m[\u001b[0m\u001b[1;36m1\u001b[0m\u001b[1;33m:\u001b[0m\u001b[1;33m]\u001b[0m\u001b[1;33m)\u001b[0m\u001b[1;33m)\u001b[0m\u001b[1;33m)\u001b[0m\u001b[1;33m\u001b[0m\u001b[1;33m\u001b[0m\u001b[0m\n\u001b[0;32m      9\u001b[0m     \u001b[1;31m#total=sum(list(map(int,words[1:])))\u001b[0m\u001b[1;33m\u001b[0m\u001b[1;33m\u001b[0m\u001b[1;33m\u001b[0m\u001b[0m\n\u001b[1;32m---> 10\u001b[1;33m     \u001b[0ms\u001b[0m\u001b[1;33m=\u001b[0m\u001b[0msum\u001b[0m\u001b[1;33m(\u001b[0m\u001b[0mtotal\u001b[0m\u001b[1;33m)\u001b[0m\u001b[1;33m\u001b[0m\u001b[1;33m\u001b[0m\u001b[0m\n\u001b[0m\u001b[0;32m     11\u001b[0m     \u001b[0mprint\u001b[0m\u001b[1;33m(\u001b[0m\u001b[0mname\u001b[0m\u001b[1;33m,\u001b[0m\u001b[1;34m\" \"\u001b[0m\u001b[1;33m,\u001b[0m\u001b[0mtotal\u001b[0m\u001b[1;33m)\u001b[0m\u001b[1;33m\u001b[0m\u001b[1;33m\u001b[0m\u001b[0m\n",
      "\u001b[1;31mTypeError\u001b[0m: 'int' object is not callable"
     ]
    }
   ],
   "source": [
    "f=open('marks.txt','r')\n",
    "d=f.readlines()\n",
    "print(d)\n",
    "for i in d:\n",
    "    words=i.split()\n",
    "    print(words)\n",
    "    name=words[0]\n",
    "    total=(list(map(int,words[1:])))\n",
    "    #total=sum(list(map(int,words[1:])))\n",
    "    print(name,\" \",total)"
   ]
  },
  {
   "cell_type": "code",
   "execution_count": 1,
   "metadata": {},
   "outputs": [],
   "source": [
    "import re\n"
   ]
  },
  {
   "cell_type": "code",
   "execution_count": 2,
   "metadata": {},
   "outputs": [
    {
     "data": {
      "text/plain": [
       "<re.Match object; span=(0, 1), match='a'>"
      ]
     },
     "execution_count": 2,
     "metadata": {},
     "output_type": "execute_result"
    }
   ],
   "source": [
    "a=\"arsh\"\n",
    "re.match('a',a)"
   ]
  },
  {
   "cell_type": "code",
   "execution_count": 5,
   "metadata": {},
   "outputs": [
    {
     "data": {
      "text/plain": [
       "<re.Match object; span=(1, 2), match='a'>"
      ]
     },
     "execution_count": 5,
     "metadata": {},
     "output_type": "execute_result"
    }
   ],
   "source": [
    "a=\"rash\"\n",
    "re.search('a',a)"
   ]
  },
  {
   "cell_type": "code",
   "execution_count": 6,
   "metadata": {},
   "outputs": [
    {
     "data": {
      "text/plain": [
       "['a', 'a', 'a']"
      ]
     },
     "execution_count": 6,
     "metadata": {},
     "output_type": "execute_result"
    }
   ],
   "source": [
    "a=\"arshada\"\n",
    "re.findall('a',a)"
   ]
  },
  {
   "cell_type": "code",
   "execution_count": 7,
   "metadata": {},
   "outputs": [
    {
     "data": {
      "text/plain": [
       "<re.Match object; span=(0, 1), match='a'>"
      ]
     },
     "execution_count": 7,
     "metadata": {},
     "output_type": "execute_result"
    }
   ],
   "source": [
    "a=\"arsh\"\n",
    "re.match('^a',a)"
   ]
  },
  {
   "cell_type": "code",
   "execution_count": null,
   "metadata": {},
   "outputs": [],
   "source": []
  },
  {
   "cell_type": "code",
   "execution_count": 11,
   "metadata": {},
   "outputs": [
    {
     "data": {
      "text/plain": [
       "<re.Match object; span=(3, 4), match='h'>"
      ]
     },
     "execution_count": 11,
     "metadata": {},
     "output_type": "execute_result"
    }
   ],
   "source": [
    "a=\"arsh\"\n",
    "re.search('h$',a)"
   ]
  },
  {
   "cell_type": "code",
   "execution_count": 14,
   "metadata": {},
   "outputs": [],
   "source": [
    "a=\"arsh\"\n",
    "re.search('..........',a)"
   ]
  },
  {
   "cell_type": "code",
   "execution_count": 19,
   "metadata": {},
   "outputs": [
    {
     "name": "stdout",
     "output_type": "stream",
     "text": [
      "ravi\n",
      "bro\n",
      "dude\n",
      "mama\n",
      "darling\n",
      "macha\n"
     ]
    }
   ],
   "source": [
    "a=['ravi','bro','dude','mama','darling','macha']\n",
    "for i in a:\n",
    "    if re.search('^.{3,4}$',i):\n",
    "        print(i)"
   ]
  },
  {
   "cell_type": "code",
   "execution_count": null,
   "metadata": {},
   "outputs": [],
   "source": []
  }
 ],
 "metadata": {
  "kernelspec": {
   "display_name": "Python 3",
   "language": "python",
   "name": "python3"
  },
  "language_info": {
   "codemirror_mode": {
    "name": "ipython",
    "version": 3
   },
   "file_extension": ".py",
   "mimetype": "text/x-python",
   "name": "python",
   "nbconvert_exporter": "python",
   "pygments_lexer": "ipython3",
   "version": "3.8.5"
  }
 },
 "nbformat": 4,
 "nbformat_minor": 4
}
