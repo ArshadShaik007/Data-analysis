{
  "nbformat": 4,
  "nbformat_minor": 0,
  "metadata": {
    "kernelspec": {
      "display_name": "Python 3",
      "language": "python",
      "name": "python3"
    },
    "language_info": {
      "codemirror_mode": {
        "name": "ipython",
        "version": 3
      },
      "file_extension": ".py",
      "mimetype": "text/x-python",
      "name": "python",
      "nbconvert_exporter": "python",
      "pygments_lexer": "ipython3",
      "version": "3.8.5"
    },
    "colab": {
      "name": "Untitled.ipynb",
      "provenance": [],
      "collapsed_sections": [],
      "include_colab_link": true
    }
  },
  "cells": [
    {
      "cell_type": "markdown",
      "metadata": {
        "id": "view-in-github",
        "colab_type": "text"
      },
      "source": [
        "<a href=\"https://colab.research.google.com/github/ArshadShaik007/Data-analysis/blob/main/Untitled.ipynb\" target=\"_parent\"><img src=\"https://colab.research.google.com/assets/colab-badge.svg\" alt=\"Open In Colab\"/></a>"
      ]
    },
    {
      "cell_type": "code",
      "metadata": {
        "id": "d1MB_JOxBTxb",
        "outputId": "f70261f2-75f9-4a9f-9f5d-428fd84fbab9"
      },
      "source": [
        "\n",
        "def addition():\n",
        "    add=0\n",
        "    n=int(input(\"enter the size\"))\n",
        "    for i in range(0,n):\n",
        "        a=int(input(\"Enter the numbers to be added\"))\n",
        "        add=add+a\n",
        "    print(\"additio of the numbers is :\",add)\n",
        "addition()"
      ],
      "execution_count": null,
      "outputs": [
        {
          "output_type": "stream",
          "text": [
            "enter the size2\n",
            "Enter the numbers to be added1\n",
            "Enter the numbers to be added2\n",
            "additio of the numbers is : 3\n"
          ],
          "name": "stdout"
        }
      ]
    },
    {
      "cell_type": "markdown",
      "metadata": {
        "id": "ZKfWcNP1BTxp"
      },
      "source": [
        "[sahilbasha08](http://sahilbasha08.blogspot.com)"
      ]
    },
    {
      "cell_type": "markdown",
      "metadata": {
        "id": "VrblDgv3BTxq"
      },
      "source": [
        "# Files"
      ]
    },
    {
      "cell_type": "markdown",
      "metadata": {
        "id": "G26kxjNzBTxr"
      },
      "source": [
        "- open(filename, mode)\n",
        "- read()\n",
        "- write()\n",
        "- readlines()\n",
        "- close()\n"
      ]
    },
    {
      "cell_type": "code",
      "metadata": {
        "id": "7gGXiWn5BTxr",
        "outputId": "d1b45910-927b-4ba7-aedc-12025caa5206"
      },
      "source": [
        "s=open('C:/Users/Administrator/Desktop/sahil.txt','w')\n",
        "p=\"sahil basha\"\n",
        "s.write(p)\n",
        "s.close()\n",
        "s=open('C:/Users/Administrator/Desktop/sahil.txt','r')\n",
        "d=s.read()\n",
        "print(d)\n"
      ],
      "execution_count": null,
      "outputs": [
        {
          "output_type": "stream",
          "text": [
            "sahil basha\n"
          ],
          "name": "stdout"
        }
      ]
    },
    {
      "cell_type": "code",
      "metadata": {
        "id": "l2QESL4cBTxs"
      },
      "source": [
        "s=open('C:/Users/Administrator/Desktop/sahil.txt','w')\n",
        "s.write(\"welcom to NEC\")\n",
        "s.close()\n"
      ],
      "execution_count": null,
      "outputs": []
    },
    {
      "cell_type": "code",
      "metadata": {
        "id": "FOFGCj5ABTxs",
        "outputId": "b0e5400e-213a-48b3-e321-58ecfc1b64a2"
      },
      "source": [
        "s=open('C:/Users/Administrator/Desktop/sahil.txt','a')\n",
        "p=\"\\nsahil basha\"\n",
        "s.write(p)\n",
        "s.close()\n",
        "s=open('C:/Users/Administrator/Desktop/sahil.txt','r')\n",
        "s.read()\n"
      ],
      "execution_count": null,
      "outputs": [
        {
          "output_type": "execute_result",
          "data": {
            "text/plain": [
              "'welcom to NEC\\nsahil basha'"
            ]
          },
          "metadata": {
            "tags": []
          },
          "execution_count": 73
        }
      ]
    },
    {
      "cell_type": "code",
      "metadata": {
        "id": "iOBFHm55BTxt",
        "outputId": "2eafa1be-c525-475e-9835-953a4116fd60"
      },
      "source": [
        "s=open('C:/Users/Administrator/Desktop/sahil.txt','r')\n",
        "m=s.read()\n",
        "p=m.split(\" \")\n",
        "print(p)\n"
      ],
      "execution_count": null,
      "outputs": [
        {
          "output_type": "stream",
          "text": [
            "['welcom', 'to', 'NEC\\nsahil', 'basha']\n"
          ],
          "name": "stdout"
        }
      ]
    },
    {
      "cell_type": "code",
      "metadata": {
        "id": "706OwOYnBTxu",
        "outputId": "33b94883-4b80-4dd0-cd2f-1747b5e7cd2a"
      },
      "source": [
        "s=open('C:/Users/Administrator/Desktop/num.txt','r')\n",
        "p=s.read()\n",
        "l=p.split(\" \")\n",
        "for i in range (0,len(l)):\n",
        "    l[i]=int(l[i])\n",
        "    print(type(l[i]))"
      ],
      "execution_count": null,
      "outputs": [
        {
          "output_type": "stream",
          "text": [
            "<class 'int'>\n",
            "<class 'int'>\n",
            "<class 'int'>\n",
            "<class 'int'>\n",
            "<class 'int'>\n",
            "<class 'int'>\n",
            "<class 'int'>\n"
          ],
          "name": "stdout"
        }
      ]
    },
    {
      "cell_type": "code",
      "metadata": {
        "id": "aLLPedmsBTxu",
        "outputId": "5de9c29c-3bba-4dc1-bb60-ec8f3ca1d092"
      },
      "source": [
        "i=10\n",
        "type(i)"
      ],
      "execution_count": null,
      "outputs": [
        {
          "output_type": "execute_result",
          "data": {
            "text/plain": [
              "int"
            ]
          },
          "metadata": {
            "tags": []
          },
          "execution_count": 79
        }
      ]
    },
    {
      "cell_type": "markdown",
      "metadata": {
        "id": "Oj5U1Nc2BTxv"
      },
      "source": [
        "# Regular Expressions"
      ]
    },
    {
      "cell_type": "code",
      "metadata": {
        "id": "X1df2OO1BTxv"
      },
      "source": [
        "import re"
      ],
      "execution_count": null,
      "outputs": []
    },
    {
      "cell_type": "markdown",
      "metadata": {
        "id": "5er86xI2BTxw"
      },
      "source": [
        "## re.match('pattern',variable)\n"
      ]
    },
    {
      "cell_type": "code",
      "metadata": {
        "id": "5BcomjH-BTxw"
      },
      "source": [
        "a=\"sahil basha\"\n",
        "re.match('r',a)"
      ],
      "execution_count": null,
      "outputs": []
    },
    {
      "cell_type": "markdown",
      "metadata": {
        "id": "zSC_ZS7EBTxx"
      },
      "source": [
        "## re.search \n",
        "### shows the first occurance of the charactors we need"
      ]
    },
    {
      "cell_type": "code",
      "metadata": {
        "id": "2gpdhPI4BTxx",
        "outputId": "98a7481b-b010-4eec-8f5f-a409ffe96871"
      },
      "source": [
        "a=\"sahilbasha\"\n",
        "re.search('a',a)"
      ],
      "execution_count": null,
      "outputs": [
        {
          "output_type": "execute_result",
          "data": {
            "text/plain": [
              "<re.Match object; span=(1, 2), match='a'>"
            ]
          },
          "metadata": {
            "tags": []
          },
          "execution_count": 6
        }
      ]
    },
    {
      "cell_type": "markdown",
      "metadata": {
        "id": "jyNtZtqkBTxx"
      },
      "source": [
        "## re.findall\n",
        "### shows all the occurances of the characotrs"
      ]
    },
    {
      "cell_type": "code",
      "metadata": {
        "id": "Le_6PkG4BTxy",
        "outputId": "6d25cd65-6238-4977-cdf6-225afc73c32e"
      },
      "source": [
        "a=\"sahil basha\"\n",
        "re.findall('a',a)"
      ],
      "execution_count": null,
      "outputs": [
        {
          "output_type": "execute_result",
          "data": {
            "text/plain": [
              "['a', 'a', 'a']"
            ]
          },
          "metadata": {
            "tags": []
          },
          "execution_count": 7
        }
      ]
    },
    {
      "cell_type": "markdown",
      "metadata": {
        "id": "pUnM8aOhBTxy"
      },
      "source": [
        "[]\tA set of characters\t                                                          \"[a-m]\"\t\n",
        "\\\tSignals a special sequence (can also be used to escape special characters)  \t\"\\d\"\t\n",
        ".\tAny character (except newline character)\t                                   \"he..o\"\t\n",
        "^\tStarts with\t                                                                   \"^hello\"\t\n",
        "$\tEnds with\t                                                                  \"world$\"\t\n",
        "*\tZero or more occurrences\t                                                    \"aix*\"\t\n",
        "+\tOne or more occurrences\t                                                       \"aix+\"\t\n",
        "{}\tExactly the specified number of occurrences                                 \t\"al{2}\"\t\n",
        "|\tEither or\t                                                              \"falls|stays\""
      ]
    },
    {
      "cell_type": "code",
      "metadata": {
        "id": "1ixvbRp3BTxz",
        "outputId": "e304e429-75f1-4c96-f01f-a901c3a1f0c5"
      },
      "source": [
        "a=\"sahil basha\"\n",
        "re.search('^s',a)"
      ],
      "execution_count": null,
      "outputs": [
        {
          "output_type": "execute_result",
          "data": {
            "text/plain": [
              "<re.Match object; span=(0, 1), match='s'>"
            ]
          },
          "metadata": {
            "tags": []
          },
          "execution_count": 11
        }
      ]
    },
    {
      "cell_type": "code",
      "metadata": {
        "id": "M3wGykvMBTxz",
        "outputId": "18dabc09-b299-4cfd-dd2e-1f3539ee403c"
      },
      "source": [
        "a=\"sahil basha\"\n",
        "re.search('s..',a)"
      ],
      "execution_count": null,
      "outputs": [
        {
          "output_type": "execute_result",
          "data": {
            "text/plain": [
              "<re.Match object; span=(0, 5), match='sahil'>"
            ]
          },
          "metadata": {
            "tags": []
          },
          "execution_count": 18
        }
      ]
    },
    {
      "cell_type": "code",
      "metadata": {
        "id": "lQaUMhu9BTxz",
        "outputId": "89ee5bca-beb8-4e4c-fd70-5c167f13acbd"
      },
      "source": [
        "a=['sahil','basha','shaik','madeena']\n",
        "for i in a:\n",
        "    if re.search('^s.{4}',i):\n",
        "        print(i)"
      ],
      "execution_count": null,
      "outputs": [
        {
          "output_type": "stream",
          "text": [
            "sahil\n",
            "shaik\n"
          ],
          "name": "stdout"
        }
      ]
    },
    {
      "cell_type": "code",
      "metadata": {
        "id": "hwXP_r2cBTx0",
        "outputId": "1de4b6e4-7b0b-4820-c036-7f89f0e5162f"
      },
      "source": [
        "a=\"sahil basha23121\"\n",
        "re.findall('\\d',a)"
      ],
      "execution_count": null,
      "outputs": [
        {
          "output_type": "execute_result",
          "data": {
            "text/plain": [
              "['2', '3', '1', '2', '1']"
            ]
          },
          "metadata": {
            "tags": []
          },
          "execution_count": 42
        }
      ]
    },
    {
      "cell_type": "code",
      "metadata": {
        "id": "wQNakw8BBTx0",
        "outputId": "6afa4f6b-8d20-4c22-994e-bcabb9b1bc9a"
      },
      "source": [
        "a=\"sahil basha23sjkldfnjiosd^&%^*121\"\n",
        "re.findall('\\D',a)"
      ],
      "execution_count": null,
      "outputs": [
        {
          "output_type": "execute_result",
          "data": {
            "text/plain": [
              "['s',\n",
              " 'a',\n",
              " 'h',\n",
              " 'i',\n",
              " 'l',\n",
              " ' ',\n",
              " 'b',\n",
              " 'a',\n",
              " 's',\n",
              " 'h',\n",
              " 'a',\n",
              " 's',\n",
              " 'j',\n",
              " 'k',\n",
              " 'l',\n",
              " 'd',\n",
              " 'f',\n",
              " 'n',\n",
              " 'j',\n",
              " 'i',\n",
              " 'o',\n",
              " 's',\n",
              " 'd',\n",
              " '^',\n",
              " '&',\n",
              " '%',\n",
              " '^',\n",
              " '*']"
            ]
          },
          "metadata": {
            "tags": []
          },
          "execution_count": 44
        }
      ]
    },
    {
      "cell_type": "code",
      "metadata": {
        "id": "MSZWNUhtBTx1",
        "outputId": "698d3bd9-ed29-47f2-80ac-11c0e52bfbfc"
      },
      "source": [
        "a=\"sahil basha23sjkldfnjiosd^&%^*121\"\n",
        "re.findall('\\W',a)"
      ],
      "execution_count": null,
      "outputs": [
        {
          "output_type": "execute_result",
          "data": {
            "text/plain": [
              "[' ', '^', '&', '%', '^', '*']"
            ]
          },
          "metadata": {
            "tags": []
          },
          "execution_count": 47
        }
      ]
    },
    {
      "cell_type": "code",
      "metadata": {
        "id": "7pytd_w_BTx1"
      },
      "source": [
        ""
      ],
      "execution_count": null,
      "outputs": []
    },
    {
      "cell_type": "code",
      "metadata": {
        "id": "qFcAekjHBYb3"
      },
      "source": [
        ""
      ],
      "execution_count": null,
      "outputs": []
    }
  ]
}